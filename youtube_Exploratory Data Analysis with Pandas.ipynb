{
 "cells": [
  {
   "cell_type": "code",
   "execution_count": 12,
   "metadata": {},
   "outputs": [
    {
     "ename": "OptionError",
     "evalue": "Pattern matched multiple keys",
     "output_type": "error",
     "traceback": [
      "\u001b[1;31m---------------------------------------------------------------------------\u001b[0m",
      "\u001b[1;31mOptionError\u001b[0m                               Traceback (most recent call last)",
      "Cell \u001b[1;32mIn[12], line 6\u001b[0m\n\u001b[0;32m      4\u001b[0m \u001b[39mimport\u001b[39;00m \u001b[39mseaborn\u001b[39;00m \u001b[39mas\u001b[39;00m \u001b[39msns\u001b[39;00m\n\u001b[0;32m      5\u001b[0m plt\u001b[39m.\u001b[39mstyle\u001b[39m.\u001b[39muse(\u001b[39m'\u001b[39m\u001b[39mggplot\u001b[39m\u001b[39m'\u001b[39m)\n\u001b[1;32m----> 6\u001b[0m pd\u001b[39m.\u001b[39;49mset_option(\u001b[39m'\u001b[39;49m\u001b[39mmax_columns\u001b[39;49m\u001b[39m'\u001b[39;49m,\u001b[39m200\u001b[39;49m)\n",
      "File \u001b[1;32mc:\\Users\\srika\\anaconda3\\lib\\site-packages\\pandas\\_config\\config.py:263\u001b[0m, in \u001b[0;36mCallableDynamicDoc.__call__\u001b[1;34m(self, *args, **kwds)\u001b[0m\n\u001b[0;32m    262\u001b[0m \u001b[39mdef\u001b[39;00m \u001b[39m__call__\u001b[39m(\u001b[39mself\u001b[39m, \u001b[39m*\u001b[39margs, \u001b[39m*\u001b[39m\u001b[39m*\u001b[39mkwds) \u001b[39m-\u001b[39m\u001b[39m>\u001b[39m T:\n\u001b[1;32m--> 263\u001b[0m     \u001b[39mreturn\u001b[39;00m \u001b[39mself\u001b[39m\u001b[39m.\u001b[39m\u001b[39m__func__\u001b[39m(\u001b[39m*\u001b[39margs, \u001b[39m*\u001b[39m\u001b[39m*\u001b[39mkwds)\n",
      "File \u001b[1;32mc:\\Users\\srika\\anaconda3\\lib\\site-packages\\pandas\\_config\\config.py:156\u001b[0m, in \u001b[0;36m_set_option\u001b[1;34m(*args, **kwargs)\u001b[0m\n\u001b[0;32m    153\u001b[0m     \u001b[39mraise\u001b[39;00m \u001b[39mTypeError\u001b[39;00m(\u001b[39mf\u001b[39m\u001b[39m'\u001b[39m\u001b[39m_set_option() got an unexpected keyword argument \u001b[39m\u001b[39m\"\u001b[39m\u001b[39m{\u001b[39;00mkwarg\u001b[39m}\u001b[39;00m\u001b[39m\"\u001b[39m\u001b[39m'\u001b[39m)\n\u001b[0;32m    155\u001b[0m \u001b[39mfor\u001b[39;00m k, v \u001b[39min\u001b[39;00m \u001b[39mzip\u001b[39m(args[::\u001b[39m2\u001b[39m], args[\u001b[39m1\u001b[39m::\u001b[39m2\u001b[39m]):\n\u001b[1;32m--> 156\u001b[0m     key \u001b[39m=\u001b[39m _get_single_key(k, silent)\n\u001b[0;32m    158\u001b[0m     o \u001b[39m=\u001b[39m _get_registered_option(key)\n\u001b[0;32m    159\u001b[0m     \u001b[39mif\u001b[39;00m o \u001b[39mand\u001b[39;00m o\u001b[39m.\u001b[39mvalidator:\n",
      "File \u001b[1;32mc:\\Users\\srika\\anaconda3\\lib\\site-packages\\pandas\\_config\\config.py:123\u001b[0m, in \u001b[0;36m_get_single_key\u001b[1;34m(pat, silent)\u001b[0m\n\u001b[0;32m    121\u001b[0m     \u001b[39mraise\u001b[39;00m OptionError(\u001b[39mf\u001b[39m\u001b[39m\"\u001b[39m\u001b[39mNo such keys(s): \u001b[39m\u001b[39m{\u001b[39;00m\u001b[39mrepr\u001b[39m(pat)\u001b[39m}\u001b[39;00m\u001b[39m\"\u001b[39m)\n\u001b[0;32m    122\u001b[0m \u001b[39mif\u001b[39;00m \u001b[39mlen\u001b[39m(keys) \u001b[39m>\u001b[39m \u001b[39m1\u001b[39m:\n\u001b[1;32m--> 123\u001b[0m     \u001b[39mraise\u001b[39;00m OptionError(\u001b[39m\"\u001b[39m\u001b[39mPattern matched multiple keys\u001b[39m\u001b[39m\"\u001b[39m)\n\u001b[0;32m    124\u001b[0m key \u001b[39m=\u001b[39m keys[\u001b[39m0\u001b[39m]\n\u001b[0;32m    126\u001b[0m \u001b[39mif\u001b[39;00m \u001b[39mnot\u001b[39;00m silent:\n",
      "\u001b[1;31mOptionError\u001b[0m: Pattern matched multiple keys"
     ]
    }
   ],
   "source": [
    "import pandas as pd\n",
    "import numpy as np\n",
    "import matplotlib.pylab as plt\n",
    "import seaborn as sns\n",
    "plt.style.use('ggplot')\n",
    "pd.set_option('max_columns',200)"
   ]
  },
  {
   "cell_type": "code",
   "execution_count": 13,
   "metadata": {},
   "outputs": [],
   "source": [
    "df = pd.read_csv(\"https://raw.githubusercontent.com/lee2nd/Introduction-to-Exploritary-Data-Analysis/main/coaster_db.csv\")"
   ]
  },
  {
   "cell_type": "code",
   "execution_count": 8,
   "metadata": {},
   "outputs": [
    {
     "data": {
      "text/html": [
       "<div>\n",
       "<style scoped>\n",
       "    .dataframe tbody tr th:only-of-type {\n",
       "        vertical-align: middle;\n",
       "    }\n",
       "\n",
       "    .dataframe tbody tr th {\n",
       "        vertical-align: top;\n",
       "    }\n",
       "\n",
       "    .dataframe thead th {\n",
       "        text-align: right;\n",
       "    }\n",
       "</style>\n",
       "<table border=\"1\" class=\"dataframe\">\n",
       "  <thead>\n",
       "    <tr style=\"text-align: right;\">\n",
       "      <th></th>\n",
       "      <th>coaster_name</th>\n",
       "      <th>Length</th>\n",
       "      <th>Speed</th>\n",
       "      <th>Location</th>\n",
       "      <th>Status</th>\n",
       "      <th>Opening date</th>\n",
       "      <th>Type</th>\n",
       "      <th>Manufacturer</th>\n",
       "      <th>Height restriction</th>\n",
       "      <th>Model</th>\n",
       "      <th>...</th>\n",
       "      <th>speed1</th>\n",
       "      <th>speed2</th>\n",
       "      <th>speed1_value</th>\n",
       "      <th>speed1_unit</th>\n",
       "      <th>speed_mph</th>\n",
       "      <th>height_value</th>\n",
       "      <th>height_unit</th>\n",
       "      <th>height_ft</th>\n",
       "      <th>Inversions_clean</th>\n",
       "      <th>Gforce_clean</th>\n",
       "    </tr>\n",
       "  </thead>\n",
       "  <tbody>\n",
       "    <tr>\n",
       "      <th>0</th>\n",
       "      <td>Switchback Railway</td>\n",
       "      <td>600 ft (180 m)</td>\n",
       "      <td>6 mph (9.7 km/h)</td>\n",
       "      <td>Coney Island</td>\n",
       "      <td>Removed</td>\n",
       "      <td>June 16, 1884</td>\n",
       "      <td>Wood</td>\n",
       "      <td>LaMarcus Adna Thompson</td>\n",
       "      <td>NaN</td>\n",
       "      <td>Lift Packed</td>\n",
       "      <td>...</td>\n",
       "      <td>6 mph</td>\n",
       "      <td>9.7 km/h</td>\n",
       "      <td>6.0</td>\n",
       "      <td>mph</td>\n",
       "      <td>6.0</td>\n",
       "      <td>50.0</td>\n",
       "      <td>ft</td>\n",
       "      <td>NaN</td>\n",
       "      <td>0</td>\n",
       "      <td>2.9</td>\n",
       "    </tr>\n",
       "    <tr>\n",
       "      <th>1</th>\n",
       "      <td>Flip Flap Railway</td>\n",
       "      <td>NaN</td>\n",
       "      <td>NaN</td>\n",
       "      <td>Sea Lion Park</td>\n",
       "      <td>Removed</td>\n",
       "      <td>1895</td>\n",
       "      <td>Wood</td>\n",
       "      <td>Lina Beecher</td>\n",
       "      <td>NaN</td>\n",
       "      <td>NaN</td>\n",
       "      <td>...</td>\n",
       "      <td>NaN</td>\n",
       "      <td>NaN</td>\n",
       "      <td>NaN</td>\n",
       "      <td>NaN</td>\n",
       "      <td>NaN</td>\n",
       "      <td>NaN</td>\n",
       "      <td>NaN</td>\n",
       "      <td>NaN</td>\n",
       "      <td>1</td>\n",
       "      <td>12.0</td>\n",
       "    </tr>\n",
       "    <tr>\n",
       "      <th>2</th>\n",
       "      <td>Switchback Railway (Euclid Beach Park)</td>\n",
       "      <td>NaN</td>\n",
       "      <td>NaN</td>\n",
       "      <td>Cleveland, Ohio, United States</td>\n",
       "      <td>Closed</td>\n",
       "      <td>NaN</td>\n",
       "      <td>Other</td>\n",
       "      <td>NaN</td>\n",
       "      <td>NaN</td>\n",
       "      <td>NaN</td>\n",
       "      <td>...</td>\n",
       "      <td>NaN</td>\n",
       "      <td>NaN</td>\n",
       "      <td>NaN</td>\n",
       "      <td>NaN</td>\n",
       "      <td>NaN</td>\n",
       "      <td>NaN</td>\n",
       "      <td>NaN</td>\n",
       "      <td>NaN</td>\n",
       "      <td>0</td>\n",
       "      <td>NaN</td>\n",
       "    </tr>\n",
       "    <tr>\n",
       "      <th>3</th>\n",
       "      <td>Loop the Loop (Coney Island)</td>\n",
       "      <td>NaN</td>\n",
       "      <td>NaN</td>\n",
       "      <td>Other</td>\n",
       "      <td>Removed</td>\n",
       "      <td>1901</td>\n",
       "      <td>Steel</td>\n",
       "      <td>Edwin Prescott</td>\n",
       "      <td>NaN</td>\n",
       "      <td>NaN</td>\n",
       "      <td>...</td>\n",
       "      <td>NaN</td>\n",
       "      <td>NaN</td>\n",
       "      <td>NaN</td>\n",
       "      <td>NaN</td>\n",
       "      <td>NaN</td>\n",
       "      <td>NaN</td>\n",
       "      <td>NaN</td>\n",
       "      <td>NaN</td>\n",
       "      <td>1</td>\n",
       "      <td>NaN</td>\n",
       "    </tr>\n",
       "    <tr>\n",
       "      <th>4</th>\n",
       "      <td>Loop the Loop (Young's Pier)</td>\n",
       "      <td>NaN</td>\n",
       "      <td>NaN</td>\n",
       "      <td>Other</td>\n",
       "      <td>Removed</td>\n",
       "      <td>1901</td>\n",
       "      <td>Steel</td>\n",
       "      <td>Edwin Prescott</td>\n",
       "      <td>NaN</td>\n",
       "      <td>NaN</td>\n",
       "      <td>...</td>\n",
       "      <td>NaN</td>\n",
       "      <td>NaN</td>\n",
       "      <td>NaN</td>\n",
       "      <td>NaN</td>\n",
       "      <td>NaN</td>\n",
       "      <td>NaN</td>\n",
       "      <td>NaN</td>\n",
       "      <td>NaN</td>\n",
       "      <td>1</td>\n",
       "      <td>NaN</td>\n",
       "    </tr>\n",
       "  </tbody>\n",
       "</table>\n",
       "<p>5 rows × 56 columns</p>\n",
       "</div>"
      ],
      "text/plain": [
       "                             coaster_name          Length             Speed  \\\n",
       "0                      Switchback Railway  600 ft (180 m)  6 mph (9.7 km/h)   \n",
       "1                       Flip Flap Railway             NaN               NaN   \n",
       "2  Switchback Railway (Euclid Beach Park)             NaN               NaN   \n",
       "3            Loop the Loop (Coney Island)             NaN               NaN   \n",
       "4            Loop the Loop (Young's Pier)             NaN               NaN   \n",
       "\n",
       "                         Location   Status   Opening date   Type  \\\n",
       "0                    Coney Island  Removed  June 16, 1884   Wood   \n",
       "1                   Sea Lion Park  Removed           1895   Wood   \n",
       "2  Cleveland, Ohio, United States   Closed            NaN  Other   \n",
       "3                           Other  Removed           1901  Steel   \n",
       "4                           Other  Removed           1901  Steel   \n",
       "\n",
       "             Manufacturer Height restriction        Model  ...  speed1  \\\n",
       "0  LaMarcus Adna Thompson                NaN  Lift Packed  ...  6 mph    \n",
       "1            Lina Beecher                NaN          NaN  ...     NaN   \n",
       "2                     NaN                NaN          NaN  ...     NaN   \n",
       "3          Edwin Prescott                NaN          NaN  ...     NaN   \n",
       "4          Edwin Prescott                NaN          NaN  ...     NaN   \n",
       "\n",
       "     speed2 speed1_value speed1_unit speed_mph height_value height_unit  \\\n",
       "0  9.7 km/h          6.0         mph       6.0         50.0          ft   \n",
       "1       NaN          NaN         NaN       NaN          NaN         NaN   \n",
       "2       NaN          NaN         NaN       NaN          NaN         NaN   \n",
       "3       NaN          NaN         NaN       NaN          NaN         NaN   \n",
       "4       NaN          NaN         NaN       NaN          NaN         NaN   \n",
       "\n",
       "  height_ft Inversions_clean Gforce_clean  \n",
       "0       NaN                0          2.9  \n",
       "1       NaN                1         12.0  \n",
       "2       NaN                0          NaN  \n",
       "3       NaN                1          NaN  \n",
       "4       NaN                1          NaN  \n",
       "\n",
       "[5 rows x 56 columns]"
      ]
     },
     "execution_count": 8,
     "metadata": {},
     "output_type": "execute_result"
    }
   ],
   "source": [
    "df.head()"
   ]
  },
  {
   "cell_type": "code",
   "execution_count": 9,
   "metadata": {},
   "outputs": [
    {
     "data": {
      "text/plain": [
       "(1087, 56)"
      ]
     },
     "execution_count": 9,
     "metadata": {},
     "output_type": "execute_result"
    }
   ],
   "source": [
    "df.shape"
   ]
  },
  {
   "cell_type": "code",
   "execution_count": 10,
   "metadata": {},
   "outputs": [
    {
     "data": {
      "text/plain": [
       "Index(['coaster_name', 'Length', 'Speed', 'Location', 'Status', 'Opening date',\n",
       "       'Type', 'Manufacturer', 'Height restriction', 'Model', 'Height',\n",
       "       'Inversions', 'Lift/launch system', 'Cost', 'Trains', 'Park section',\n",
       "       'Duration', 'Capacity', 'G-force', 'Designer', 'Max vertical angle',\n",
       "       'Drop', 'Soft opening date', 'Fast Lane available', 'Replaced',\n",
       "       'Track layout', 'Fastrack available', 'Soft opening date.1',\n",
       "       'Closing date', 'Opened', 'Replaced by', 'Website',\n",
       "       'Flash Pass Available', 'Must transfer from wheelchair', 'Theme',\n",
       "       'Single rider line available', 'Restraint Style',\n",
       "       'Flash Pass available', 'Acceleration', 'Restraints', 'Name',\n",
       "       'year_introduced', 'latitude', 'longitude', 'Type_Main',\n",
       "       'opening_date_clean', 'speed1', 'speed2', 'speed1_value', 'speed1_unit',\n",
       "       'speed_mph', 'height_value', 'height_unit', 'height_ft',\n",
       "       'Inversions_clean', 'Gforce_clean'],\n",
       "      dtype='object')"
      ]
     },
     "execution_count": 10,
     "metadata": {},
     "output_type": "execute_result"
    }
   ],
   "source": [
    "df.columns"
   ]
  },
  {
   "cell_type": "code",
   "execution_count": 18,
   "metadata": {},
   "outputs": [],
   "source": [
    "df =df[['coaster_name','Location', 'Status','Manufacturer','Opened',\n",
    "       'year_introduced', 'latitude', 'longitude', 'Type_Main',\n",
    "       'opening_date_clean',\n",
    "       'speed_mph', 'height_ft',\n",
    "       'Inversions_clean', 'Gforce_clean']].copy()"
   ]
  },
  {
   "cell_type": "code",
   "execution_count": 22,
   "metadata": {},
   "outputs": [],
   "source": [
    "df['opening_date_clean']=pd.to_datetime(df['opening_date_clean'])"
   ]
  },
  {
   "cell_type": "code",
   "execution_count": 24,
   "metadata": {},
   "outputs": [
    {
     "data": {
      "text/plain": [
       "dtype('<M8[ns]')"
      ]
     },
     "execution_count": 24,
     "metadata": {},
     "output_type": "execute_result"
    }
   ],
   "source": [
    "df['opening_date_clean'].dtype"
   ]
  },
  {
   "cell_type": "code",
   "execution_count": null,
   "metadata": {},
   "outputs": [],
   "source": []
  }
 ],
 "metadata": {
  "kernelspec": {
   "display_name": "base",
   "language": "python",
   "name": "python3"
  },
  "language_info": {
   "codemirror_mode": {
    "name": "ipython",
    "version": 3
   },
   "file_extension": ".py",
   "mimetype": "text/x-python",
   "name": "python",
   "nbconvert_exporter": "python",
   "pygments_lexer": "ipython3",
   "version": "3.10.9"
  },
  "orig_nbformat": 4
 },
 "nbformat": 4,
 "nbformat_minor": 2
}
